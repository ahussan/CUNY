{
 "cells": [
  {
   "cell_type": "markdown",
   "metadata": {},
   "source": [
    "#Project 1:  Global Baseline Predictors and RMSE\n",
    "By Latif Masud"
   ]
  },
  {
   "cell_type": "markdown",
   "metadata": {},
   "source": [
    "##Functions and Libraries\n",
    "The following functions and libraries are used to make calculations simpler. Most of the work is done by numpy and masked arrays. Functions and Libraries"
   ]
  },
  {
   "cell_type": "code",
   "execution_count": 3,
   "metadata": {
    "collapsed": true
   },
   "outputs": [],
   "source": [
    "import numpy as np\n",
    "import numpy.ma as ma\n",
    "\n",
    "from math import sqrt\n",
    "\n",
    "# Takes in predictions and mean(targets) and calculates the rmse between them\n",
    "def rmse (predictions, targets):\n",
    "    return sqrt(((predictions - targets) ** 2).mean(axis=None))"
   ]
  },
  {
   "cell_type": "markdown",
   "metadata": {},
   "source": [
    "##Defining Data\n",
    "I start by defining a random set of ratings for five users, with ratings from 1 to five. Initially, I set it as a 2D array that will soon be converted to a numpy masked array. I also define an array of 1 and zero to act as a mask of the values that are missing."
   ]
  },
  {
   "cell_type": "code",
   "execution_count": 4,
   "metadata": {},
   "outputs": [],
   "source": [
    "ratings = [[1,0,2,2,1],\n",
    "           [0,4,5,4,5],\n",
    "           [3,2,0,2,3],\n",
    "           [1,5,1,4,0],\n",
    "           [2,3,2,0,2]]\n",
    "    \n",
    "missing = np.array([[1,0,1,1,1],\n",
    "                [0,1,1,1,1],\n",
    "                [1,1,0,1,1],\n",
    "                [1,1,1,1,0],\n",
    "                [1,1,1,0,1]])"
   ]
  },
  {
   "cell_type": "markdown",
   "metadata": {},
   "source": [
    "###Separating Data sets\n",
    "To separate into a training and test dataset, I use numpy masks. A `1` representa value to be used, while a `0` represents a value to be masked (not used)."
   ]
  },
  {
   "cell_type": "code",
   "execution_count": 7,
   "metadata": {
    "collapsed": true
   },
   "outputs": [],
   "source": [
    "mask_test = np.array([[0,1,1,1,1],\n",
    "                          [1,0,1,1,1],\n",
    "                          [1,1,1,0,1],\n",
    "                          [1,1,0,1,1],\n",
    "                          [1,1,1,1,0]])\n",
    " \n",
    "mask_training = np.logical_not(np.logical_and(mask_test, missing))\n",
    "\n",
    "test = ma.array(ratings, mask = mask_test)\n",
    "training = ma.array(ratings, mask = mask_training)"
   ]
  },
  {
   "cell_type": "code",
   "execution_count": 14,
   "metadata": {},
   "outputs": [
    {
     "name": "stdout",
     "output_type": "stream",
     "text": [
      "[[1 -- -- -- --]\n",
      " [-- 4 -- -- --]\n",
      " [-- -- -- 2 --]\n",
      " [-- -- 1 -- --]\n",
      " [-- -- -- -- 2]]\n"
     ]
    }
   ],
   "source": [
    "print test"
   ]
  },
  {
   "cell_type": "code",
   "execution_count": 15,
   "metadata": {},
   "outputs": [
    {
     "name": "stdout",
     "output_type": "stream",
     "text": [
      "[[-- -- 2 2 1]\n",
      " [-- -- 5 4 5]\n",
      " [3 2 -- -- 3]\n",
      " [1 5 -- 4 --]\n",
      " [2 3 2 -- --]]\n"
     ]
    }
   ],
   "source": [
    "print training"
   ]
  },
  {
   "cell_type": "markdown",
   "metadata": {},
   "source": [
    "##Analysis\n",
    "###Mean of Data set\n",
    "To get the mean of the training dataset, we can simply call the mean function for a numpy array:"
   ]
  },
  {
   "cell_type": "code",
   "execution_count": 8,
   "metadata": {},
   "outputs": [
    {
     "name": "stdout",
     "output_type": "stream",
     "text": [
      "Training Mean:  2.93333333333\n"
     ]
    }
   ],
   "source": [
    "print \"Training Mean: \", training.mean()"
   ]
  },
  {
   "cell_type": "markdown",
   "metadata": {},
   "source": [
    "###RMSE Values\n",
    "To get the rmse values, I simply call the rmse function defined above. The function takes the difference between the two matrices, squares them, and gets the mean of the corresponding matrix. The value is then squared to return the RMSE."
   ]
  },
  {
   "cell_type": "code",
   "execution_count": 11,
   "metadata": {},
   "outputs": [
    {
     "name": "stdout",
     "output_type": "stream",
     "text": [
      "Test:  1.43913554299  Training:  1.33998341615\n"
     ]
    }
   ],
   "source": [
    "mean_matrix = np.full((5,5), training.mean())\n",
    "\n",
    "rmse_training = rmse (training, mean_matrix)\n",
    "rmse_test = rmse (test, mean_matrix)\n",
    "\n",
    "print \"Test: \", rmse_test, \" Training: \", rmse_training"
   ]
  },
  {
   "cell_type": "markdown",
   "metadata": {},
   "source": [
    "###Calculating Bias\n",
    "To calculate the bias, I simply take the mean of each pair of datapoints, and then subtract the mean from it. "
   ]
  },
  {
   "cell_type": "code",
   "execution_count": 13,
   "metadata": {},
   "outputs": [
    {
     "name": "stdout",
     "output_type": "stream",
     "text": [
      "User Bias:  [-1.2666666666666664 1.7333333333333338 -0.2666666666666666\n",
      " 0.40000000000000036 -0.5999999999999996]\n",
      "Sample Bias:  [-0.9333333333333331 0.40000000000000036 0.06666666666666687\n",
      " 0.40000000000000036 0.06666666666666687]\n"
     ]
    }
   ],
   "source": [
    "user_bias = training.mean(axis=1) - training.mean()\n",
    "sample_bias = training.mean(axis=0) - training.mean()\n",
    "\n",
    "print \"User Bias: \", user_bias\n",
    "print \"Sample Bias: \", sample_bias"
   ]
  },
  {
   "cell_type": "markdown",
   "metadata": {},
   "source": [
    "###Calculating Baseline\n",
    "To calculate baseline values, I first set a matrix of mean values, then loop through both the user and sample bias values, and add them to the matrix to produce our overall result. "
   ]
  },
  {
   "cell_type": "code",
   "execution_count": 18,
   "metadata": {
    "scrolled": true
   },
   "outputs": [
    {
     "name": "stdout",
     "output_type": "stream",
     "text": [
      "[[-1.46666667  1.2         0.53333333  1.2         0.53333333]\n",
      " [ 4.53333333  7.2         6.53333333  7.2         6.53333333]\n",
      " [ 0.53333333  3.2         2.53333333  3.2         2.53333333]\n",
      " [ 1.86666667  4.53333333  3.86666667  4.53333333  3.86666667]\n",
      " [-0.13333333  2.53333333  1.86666667  2.53333333  1.86666667]]\n"
     ]
    }
   ],
   "source": [
    " baseline = mean_matrix\n",
    "    \n",
    "for n in range(0, user_bias.shape[0]):\n",
    "    for m in range(0, sample_bias.shape[0]):\n",
    "        baseline[n][m] = baseline[n][m] + user_bias[n] + sample_bias[m]\n",
    "            \n",
    "print baseline"
   ]
  },
  {
   "cell_type": "markdown",
   "metadata": {},
   "source": [
    "###Calculating Baseline RMSE\n",
    "\n",
    "To calculate the baseline RMSE values for training and test values, I simply call the rmse functions with the baseline matrix:"
   ]
  },
  {
   "cell_type": "code",
   "execution_count": 19,
   "metadata": {},
   "outputs": [
    {
     "name": "stdout",
     "output_type": "stream",
     "text": [
      "Training RMSE:  1.45449494862\n",
      "Test RMSE:  2.2803508502\n"
     ]
    }
   ],
   "source": [
    "training_rmse = rmse(training, baseline)\n",
    "test_rmse = rmse(test, baseline)\n",
    "\n",
    "print \"Training RMSE: \", training_rmse\n",
    "print \"Test RMSE: \", test_rmse"
   ]
  },
  {
   "cell_type": "markdown",
   "metadata": {},
   "source": [
    "##Summary\n",
    "The Training and Test RMSE values look to be quite far apart. This is most likely because the test values are [1,4,2,1,2], which are for the most part very low values, while the training values have far more range. "
   ]
  }
 ],
 "metadata": {
  "kernelspec": {
   "display_name": "Python 2",
   "language": "python",
   "name": "python2"
  },
  "language_info": {
   "codemirror_mode": {
    "name": "ipython",
    "version": 2
   },
   "file_extension": ".py",
   "mimetype": "text/x-python",
   "name": "python",
   "nbconvert_exporter": "python",
   "pygments_lexer": "ipython2",
   "version": "2.7.13"
  }
 },
 "nbformat": 4,
 "nbformat_minor": 2
}
