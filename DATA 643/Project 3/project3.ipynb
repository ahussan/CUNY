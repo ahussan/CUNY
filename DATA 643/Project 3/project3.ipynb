{
 "cells": [
  {
   "cell_type": "markdown",
   "metadata": {},
   "source": [
    "#Project 3: Matrix Factorization Methods\n",
    "by Latif Masud"
   ]
  },
  {
   "cell_type": "markdown",
   "metadata": {},
   "source": [
    "##Overview\n",
    "For this project, I used movie recommender prediction matrix as the baseline, and then performed an SVD to fine tune the predictions. "
   ]
  },
  {
   "cell_type": "markdown",
   "metadata": {},
   "source": [
    "##Libraries\n",
    "For this project, just the standard `numpy` and `scipy` libraries are needed. "
   ]
  },
  {
   "cell_type": "code",
   "execution_count": 3,
   "metadata": {
    "collapsed": true
   },
   "outputs": [],
   "source": [
    "from numpy import *\n",
    "from scipy import optimize"
   ]
  },
  {
   "cell_type": "markdown",
   "metadata": {},
   "source": [
    "##Recommender System\n",
    "The code below is the code from project two. It is refactored to produce a function that will yield the predictions. The function simply takes in the number of users and movies and generates random matrix of ratings, and then makes predictions for all users. "
   ]
  },
  {
   "cell_type": "code",
   "execution_count": 8,
   "metadata": {
    "collapsed": true
   },
   "outputs": [],
   "source": [
    "def normalize_ratings(ratings, did_rate):\n",
    "    num_movies = ratings.shape[0]\n",
    "    \n",
    "    ratings_mean = zeros(shape = (num_movies, 1))\n",
    "    ratings_norm = zeros(shape = ratings.shape)\n",
    "    \n",
    "    for i in range(num_movies): \n",
    "        idx = where(did_rate[i] == 1)[0]\n",
    "        \n",
    "        #  Calculate mean \n",
    "        ratings_mean[i] = mean(ratings[i, idx])\n",
    "        ratings_norm[i, idx] = ratings[i, idx] - ratings_mean[i]\n",
    "    \n",
    "    return ratings_norm, ratings_mean\n",
    "\n",
    "def unroll_params(X_and_theta, num_users, num_movies, num_features):\n",
    "    m = X_and_theta[:num_movies * num_features]\n",
    "    x = m.reshape((num_features, num_movies)).transpose()\n",
    "    y = X_and_theta[num_movies * num_features:]\n",
    "    theta = y.reshape(num_features, num_users ).transpose()\n",
    "    return x, theta\n",
    "\n",
    "def calculate_gradient(X_and_theta, ratings, did_rate, num_users, num_movies, num_features, reg_param):\n",
    "\tX, theta = unroll_params(X_and_theta, num_users, num_movies, num_features)\n",
    "\t\n",
    "\t# we multiply by did_rate because we only want to consider observations for which a rating was given\n",
    "\tdifference = X.dot( theta.T ) * did_rate - ratings\n",
    "\tX_grad = difference.dot( theta ) + reg_param * X\n",
    "\ttheta_grad = difference.T.dot( X ) + reg_param * theta\n",
    "\t\n",
    "\t# wrap the gradients back into a column vector \n",
    "\treturn r_[X_grad.T.flatten(), theta_grad.T.flatten()]\n",
    "\n",
    "def calculate_cost(X_and_theta, ratings, did_rate, num_users, num_movies, num_features, reg_param):\n",
    "    X, theta = unroll_params(X_and_theta, num_users, num_movies, num_features)\n",
    "\n",
    "    cost = sum( (X.dot( theta.T ) * did_rate - ratings) ** 2 ) / 2\n",
    "    regularization = (reg_param / 2) * (sum( theta**2 ) + sum(X**2))\n",
    "    return cost + regularization\n",
    "\n",
    "def generate_predictions (num_users, num_movies):\n",
    "\tratings = random.randint(11, size= (num_movies, num_users))\n",
    "\n",
    "\tdid_rate = (ratings != 0)*1\n",
    "\n",
    "\tratings, ratings_mean = normalize_ratings(ratings, did_rate)\n",
    "\tnum_users = ratings.shape[1]\n",
    "\tnum_features = 3\n",
    "\n",
    "\tmovie_features = random.randn( num_movies, num_features )\n",
    "\tuser_prefs = random.randn( num_users, num_features )\n",
    "\tinitial_X_and_theta = r_[movie_features.T.flatten(), user_prefs.T.flatten()]\n",
    "\n",
    "\treg_param = 30\n",
    "\n",
    "\tminimized_cost_and_optimal_params = optimize.fmin_cg(\n",
    "\t\tcalculate_cost, \n",
    "\t\tfprime=calculate_gradient, \n",
    "\t\tx0=initial_X_and_theta,\n",
    "\t\targs=(ratings, did_rate, num_users, num_movies, num_features, reg_param),\n",
    "\t\tmaxiter=100, disp=True, full_output=True)\n",
    "\n",
    "\n",
    "\tcost, optimal_movie_features_and_user_prefs = minimized_cost_and_optimal_params[1], minimized_cost_and_optimal_params[0]\n",
    "\tmovie_features, user_prefs = unroll_params(optimal_movie_features_and_user_prefs, num_users, num_movies, num_features)\n",
    "\tall_predictions = movie_features.dot( user_prefs.T )\n",
    "\n",
    "\t# predictions_for_latif = all_predictions[:, 0:1] + ratings_mean\n",
    "\t# print predictions_for_latif\n",
    "\treturn ratings, all_predictions"
   ]
  },
  {
   "cell_type": "markdown",
   "metadata": {},
   "source": [
    "##Singular Value Decomposition\n",
    "To perform the SVD, I first get some predictions by defining the number of movies and users that I would like to get predictions. Below, we see the predictions and ratings matrices. "
   ]
  },
  {
   "cell_type": "code",
   "execution_count": 9,
   "metadata": {
    "collapsed": false
   },
   "outputs": [
    {
     "name": "stdout",
     "output_type": "stream",
     "text": [
      "Optimization terminated successfully.\n",
      "         Current function value: 23.041667\n",
      "         Iterations: 9\n",
      "         Function evaluations: 22\n",
      "         Gradient evaluations: 22\n"
     ]
    },
    {
     "data": {
      "text/plain": [
       "array([[ 0.33333333, -1.66666667,  1.33333333,  0.        ],\n",
       "       [-0.75      ,  2.25      , -1.75      ,  0.25      ],\n",
       "       [ 2.        ,  1.        ,  0.        , -3.        ],\n",
       "       [-2.66666667, -0.66666667,  3.33333333,  0.        ]])"
      ]
     },
     "execution_count": 9,
     "metadata": {},
     "output_type": "execute_result"
    }
   ],
   "source": [
    "num_movies = 4\n",
    "num_users = 4\n",
    "\n",
    "ratings, predictions = generate_predictions (num_users, num_movies)\n",
    "\n",
    "ratings"
   ]
  },
  {
   "cell_type": "code",
   "execution_count": 10,
   "metadata": {
    "collapsed": false
   },
   "outputs": [
    {
     "data": {
      "text/plain": [
       "matrix([[ -5.53853069e-17,  -1.42417524e-16,   4.56549720e-17,\n",
       "          -9.26551084e-17],\n",
       "        [  3.24354524e-18,  -1.51954546e-16,   8.41832418e-17,\n",
       "          -1.58561635e-16],\n",
       "        [  2.28809159e-16,  -7.10492278e-17,   6.80980117e-19,\n",
       "           1.03227063e-16],\n",
       "        [  1.77491298e-16,  -1.47839560e-16,   5.48058584e-17,\n",
       "          -2.42709579e-17]])"
      ]
     },
     "execution_count": 10,
     "metadata": {},
     "output_type": "execute_result"
    }
   ],
   "source": [
    "predictions = matrix(predictions)\n",
    "predictions"
   ]
  },
  {
   "cell_type": "markdown",
   "metadata": {},
   "source": [
    "Now, we go ahead and make linear dependencies between the rows of predictions: "
   ]
  },
  {
   "cell_type": "code",
   "execution_count": 12,
   "metadata": {
    "collapsed": false
   },
   "outputs": [
    {
     "data": {
      "text/plain": [
       "matrix([[  2.32052705e-16,  -2.23003774e-16,   8.48642219e-17,\n",
       "          -5.53345715e-17],\n",
       "        [  3.24354524e-18,  -1.51954546e-16,   8.41832418e-17,\n",
       "          -1.58561635e-16],\n",
       "        [  2.28809159e-16,  -7.10492278e-17,   6.80980117e-19,\n",
       "           1.03227063e-16],\n",
       "        [  3.24354524e-18,  -1.51954546e-16,   8.41832418e-17,\n",
       "          -1.58561635e-16]])"
      ]
     },
     "execution_count": 12,
     "metadata": {},
     "output_type": "execute_result"
    }
   ],
   "source": [
    "predictions[0] = predictions[1] + predictions[2]\n",
    "predictions[-1] = predictions[1]\n",
    "\n",
    "predictions"
   ]
  },
  {
   "cell_type": "markdown",
   "metadata": {},
   "source": [
    "We see above that now the rows of the matrix are related to one another. Now, we can perform our SVD using `numpy's` svd function."
   ]
  },
  {
   "cell_type": "code",
   "execution_count": 13,
   "metadata": {
    "collapsed": true
   },
   "outputs": [],
   "source": [
    "V, Sigma, Ustar = linalg.svd(predictions)"
   ]
  },
  {
   "cell_type": "markdown",
   "metadata": {},
   "source": [
    "Now that we have our initial SVD matrices, we go ahead and find the number of non-zero values we have produced by first defning the diagnals of sigma, and then counting the number of non-zero values: "
   ]
  },
  {
   "cell_type": "code",
   "execution_count": 15,
   "metadata": {
    "collapsed": true
   },
   "outputs": [],
   "source": [
    "V = matrix(V)\n",
    "Ustar = matrix(Ustar)\n",
    "\n",
    "SigmaDag = zeros((num_movies, num_users))\n",
    "SigmaDag[[0,1], [0,1]] = 1/Sigma[:2]\n",
    "\n",
    "S = count_nonzero(SigmaDag)"
   ]
  },
  {
   "cell_type": "markdown",
   "metadata": {},
   "source": [
    "Once we have figured out the number of non-zero values the SVD has produced, we simply reduce our original matrix down to the ones where the values apply: "
   ]
  },
  {
   "cell_type": "code",
   "execution_count": 17,
   "metadata": {
    "collapsed": false
   },
   "outputs": [
    {
     "data": {
      "text/plain": [
       "matrix([[-0.74274582,  0.21983777],\n",
       "        [-0.41143934, -0.48033079],\n",
       "        [-0.33130649,  0.70016856],\n",
       "        [-0.41143934, -0.48033079]])"
      ]
     },
     "execution_count": 17,
     "metadata": {},
     "output_type": "execute_result"
    }
   ],
   "source": [
    "Sig = mat(eye(S)*Sigma[:S])\n",
    "\n",
    "new_predictions = V[:,:S]\n",
    "\n",
    "new_predictions"
   ]
  },
  {
   "cell_type": "markdown",
   "metadata": {},
   "source": [
    "##Conclusion\n",
    "From the data, we can see that the only prediction that held true was the on the first row, second value as this is the only positive value. Everything else came out as negative, indicating they were not good predictors. "
   ]
  }
 ],
 "metadata": {
  "kernelspec": {
   "display_name": "Python 2",
   "language": "python",
   "name": "python2"
  },
  "language_info": {
   "codemirror_mode": {
    "name": "ipython",
    "version": 2
   },
   "file_extension": ".py",
   "mimetype": "text/x-python",
   "name": "python",
   "nbconvert_exporter": "python",
   "pygments_lexer": "ipython2",
   "version": "2.7.12"
  },
  "widgets": {
   "state": {},
   "version": "1.1.2"
  }
 },
 "nbformat": 4,
 "nbformat_minor": 0
}
