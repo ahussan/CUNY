{
 "cells": [
  {
   "cell_type": "markdown",
   "metadata": {},
   "source": [
    "#Week 2: Pandora and the Music Genome Project"
   ]
  },
  {
   "cell_type": "markdown",
   "metadata": {},
   "source": [
    "Pandora's recommender system is quite a bit different from the rest of the industry. While services like Spotify use a collaborative filtering recommender system, Pandora actually utilizes their own type of recommender system altogether, which is the Music Genome Project. Pandora was started in 2000 to utilize the Music Genome Porject,and is one of the earliest utilizations of a recommender system in the music industry. \n",
    "\n",
    "The Music Genome Project utilizes roughly 300 - 450 attributes or genes to identify a song. Each song is first broken into five sub-genomes: Pop/Rock, Hip-Hop/Electronica, Jazz, World Music, and Classical, and then the attributes (genes) for the song is populated. The attributes can range from factors such as the gender of the vocal lead, to the pitch of the guitar, to various other idetifiers. These identifiers are then stored in a mathematical vector, and a matching algorithm then matches a list of songs to othre songs that a user might like. \n",
    "\n",
    "Also, each songs gene is also observed by an actual musician for about 20-30 mins to ensure for quality and about 10 percent of songs are observered by more than one musician. The genetic makeup of the song, and also the user feedback (Pandor users have the option of giving each song they listen to a thums up or down) are then used to build the overall recommender system for Pandora. "
   ]
  }
 ],
 "metadata": {
  "kernelspec": {
   "display_name": "Python 2",
   "language": "python",
   "name": "python2"
  },
  "language_info": {
   "codemirror_mode": {
    "name": "ipython",
    "version": 2
   },
   "file_extension": ".py",
   "mimetype": "text/x-python",
   "name": "python",
   "nbconvert_exporter": "python",
   "pygments_lexer": "ipython2",
   "version": "2.7.13"
  }
 },
 "nbformat": 4,
 "nbformat_minor": 2
}
