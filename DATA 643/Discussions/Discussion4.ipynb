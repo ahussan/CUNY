{
 "cells": [
  {
   "cell_type": "markdown",
   "metadata": {},
   "source": [
    "#Discussion 4: Attacks on Recommender System\n",
    "\n",
    "Attacks like the one mentioned in the Washington Post article on the movie \"The Promise\" are a pretty common occurence nowadays. There are a number of ways to prevent attacks like this, both from a web perspective and a data science perspective.\n",
    "\n",
    "From a web perspective, we could blacklist IP addresses once it crosses a certain frequency of accesses. There are smarter, more sophisticated ways of preventing DDoS (Distributed Denial of Service) attacks, but this method can serve as an easy and quick solution. This way, one user cannot simply write a script to continually rate a movie poorly and affect its rating. \n",
    "\n",
    "From a data science perspective, we can always break the data down in different ways. For example, in the case of the \"The Promise\", we know that the attacks originated from Turkey and Armenia as people in those countries were upset with the plot of the movie. If IMDB were to collect the locations of the user ratings, and then build a recommender system based on geolocation, then their results would be more accurate. For example, since the movie in controversial in Armenia, it would show a low rating to Armenian users, but at the same time, it would preserve high ratings by user elsewhere. "
   ]
  }
 ],
 "metadata": {
  "kernelspec": {
   "display_name": "Python 2",
   "language": "python",
   "name": "python2"
  },
  "language_info": {
   "codemirror_mode": {
    "name": "ipython",
    "version": 2
   },
   "file_extension": ".py",
   "mimetype": "text/x-python",
   "name": "python",
   "nbconvert_exporter": "python",
   "pygments_lexer": "ipython2",
   "version": "2.7.13"
  }
 },
 "nbformat": 4,
 "nbformat_minor": 2
}
