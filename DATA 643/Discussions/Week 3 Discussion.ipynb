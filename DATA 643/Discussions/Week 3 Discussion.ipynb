{
 "cells": [
  {
   "cell_type": "markdown",
   "metadata": {},
   "source": [
    "##Discussion 3: Bias in Google Images\n",
    "This week's question reminded me of a story I had read sometime ago Google Images and the bias involved in its results. \n",
    "\n",
    "Recommender systems -- by design-- are biased in nature. If we think about what a recommender system is at its core, it is simply an aggregation of choices/decisions made by people. If people make biased decisions, then the recommender system is biased, and since decisions themselves are simply a perference of one thing over others, then the recommender systems built from those decisions in turn will be biased. \n",
    "\n",
    "The idea with a recommender system is that if the right amount of diverse decisions/datasets, then we remove bias, and create a fair system. But this isn't always guaranteed since bias itself is a matter of perspective. For example, if I was to search for \"man\" on Google, it would yield mostly white males as the leading results. Depending on who you ask, this is a perfectly valid and fair recommender system as the system returned pictures of men, while others would argue that the results don't represent all the different kinds of men, and thus it isn't a good recoomender system. \n",
    "\n",
    "In reality, both sides are right or wrong depending on the perspective of the individual, so its up to the businesses and end users to guide recommender systems to display results that we think we want. "
   ]
  },
  {
   "cell_type": "code",
   "execution_count": null,
   "metadata": {
    "collapsed": true
   },
   "outputs": [],
   "source": []
  }
 ],
 "metadata": {
  "kernelspec": {
   "display_name": "Python 2",
   "language": "python",
   "name": "python2"
  },
  "language_info": {
   "codemirror_mode": {
    "name": "ipython",
    "version": 2
   },
   "file_extension": ".py",
   "mimetype": "text/x-python",
   "name": "python",
   "nbconvert_exporter": "python",
   "pygments_lexer": "ipython2",
   "version": "2.7.13"
  }
 },
 "nbformat": 4,
 "nbformat_minor": 2
}
