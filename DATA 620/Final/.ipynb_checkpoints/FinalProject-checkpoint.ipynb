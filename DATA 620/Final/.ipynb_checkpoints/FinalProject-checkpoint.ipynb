{
 "cells": [
  {
   "cell_type": "markdown",
   "metadata": {},
   "source": [
    "### Issues\n",
    "- Scraping code never returned proper data\n",
    "- Neo4j kept crashing with large datasets"
   ]
  },
  {
   "cell_type": "markdown",
   "metadata": {},
   "source": [
    "### Visualization Stuff\n",
    "\n",
    "KFC Limit Cals:\n",
    "WITH 400 as max_calories\n",
    "MATCH (Restaurant {name: \"KFC\"})-[i1:ENTRE]-(m1:Item)\n",
    "MATCH (Restaurant {name: \"KFC\"})-[i2:SIDE]-(m2:Item)\n",
    "WHERE i1.calories + i2.calories < max_calories \n",
    "RETURN *\n"
   ]
  },
  {
   "cell_type": "markdown",
   "metadata": {},
   "source": [
    "## Part One: Retrieving Healthiest Fast Food Meals"
   ]
  },
  {
   "cell_type": "code",
   "execution_count": 400,
   "metadata": {},
   "outputs": [
    {
     "name": "stdout",
     "output_type": "stream",
     "text": [
      "Requirement already satisfied: neo4j-driver in c:\\users\\latif\\anaconda3\\lib\\site-packages\n",
      "Requirement already satisfied: uszipcode in c:\\users\\latif\\anaconda3\\lib\\site-packages\n",
      "Requirement already up-to-date: textblob in c:\\users\\latif\\anaconda3\\lib\\site-packages\n",
      "Requirement already up-to-date: nltk>=3.1 in c:\\users\\latif\\anaconda3\\lib\\site-packages (from textblob)\n",
      "Requirement already up-to-date: six in c:\\users\\latif\\anaconda3\\lib\\site-packages (from nltk>=3.1->textblob)\n",
      "Collecting tabulate\n",
      "  Downloading tabulate-0.8.2.tar.gz (45kB)\n",
      "Building wheels for collected packages: tabulate\n",
      "  Running setup.py bdist_wheel for tabulate: started\n",
      "  Running setup.py bdist_wheel for tabulate: finished with status 'done'\n",
      "  Stored in directory: C:\\Users\\latif\\AppData\\Local\\pip\\Cache\\wheels\\7c\\fc\\c4\\f89c90e8bb6a0052a4ad4a9bc30a61429fea5d3439c63e2efd\n",
      "Successfully built tabulate\n",
      "Installing collected packages: tabulate\n",
      "Successfully installed tabulate-0.8.2\n"
     ]
    }
   ],
   "source": [
    "!pip install neo4j-driver\n",
    "!pip install uszipcode\n",
    "!pip install -U textblob\n",
    "!pip install tabulate"
   ]
  },
  {
   "cell_type": "code",
   "execution_count": 401,
   "metadata": {},
   "outputs": [],
   "source": [
    "from neo4j.v1 import GraphDatabase, basic_auth\n",
    "from uszipcode import ZipcodeSearchEngine\n",
    "import requests\n",
    "from urllib.parse import quote\n",
    "\n",
    "import nltk\n",
    "from textblob.classifiers import NaiveBayesClassifier\n",
    "from textblob import TextBlob\n",
    "\n",
    "from IPython.display import HTML, display\n",
    "import tabulate"
   ]
  },
  {
   "cell_type": "markdown",
   "metadata": {},
   "source": [
    "### Helper Functions"
   ]
  },
  {
   "cell_type": "code",
   "execution_count": 177,
   "metadata": {},
   "outputs": [],
   "source": [
    "def clean_str(line):\n",
    "    invalids = ['\"',\" \", '\\n']\n",
    "    for n in invalids:\n",
    "        line = line.replace(n, '')\n",
    "        \n",
    "    return line\n",
    "\n",
    "def get_menu_from_file(filepath):\n",
    "    items_file = open(filepath, \"r\")\n",
    "    items= (items_file.read()).split(\"\\n\")\n",
    "    \n",
    "    menu = []\n",
    "    for item in items:\n",
    "        props = item.split(\",\")\n",
    "        menu.append({\n",
    "            'name': props[0],\n",
    "            'type': clean_str(props[1]).title(),\n",
    "            'calories': clean_str(props[2])\n",
    "        })\n",
    "    return menu\n",
    "\n",
    "def insert_menu_into_db(db, menu, restaurant):\n",
    "    for item in menu:\n",
    "        info = {'restaurant': restaurant, 'dish_name': item['name'], 'calories': int(item['calories'])}\n",
    "        db.run(\"CREATE (a: Item {name: {name}, type:{type}})\", item)\n",
    "        \n",
    "        if item[\"type\"] == \"Main\":\n",
    "            db.run(\"MATCH(n: Restaurant {name: {restaurant}}) MATCH(v: Item {name: {dish_name}}) CREATE (n)-[:ENTRE {calories: {calories}}]->(v)\", info)\n",
    "\n",
    "        else:\n",
    "            db.run(\"MATCH(n: Restaurant {name: {restaurant}}) MATCH(v: Item {name: {dish_name}}) CREATE (n)-[:SIDE {calories: {calories}}]->(v)\", info)\n",
    "            \n",
    "def get_items_by_calories(db, max_calories, restaurant):\n",
    "    info = {'max_calories': max_calories, 'restaurant': restaurant}\n",
    "    results = db.run(\"\"\"\n",
    "        WITH {max_calories} as max_calories\n",
    "        MATCH (Restaurant {name: {restaurant}})-[i1:ENTRE]-(m1:Item)\n",
    "        MATCH (Restaurant {name: {restaurant}})-[i2:SIDE]-(m2:Item)\n",
    "        WHERE i1.calories + i2.calories < max_calories \n",
    "        RETURN i1, i2, m1, m2\n",
    "    \"\"\", info)\n",
    "    \n",
    "    items = {}\n",
    "    for item in results:\n",
    "        i1 = {'calories': item['i1']['calories'], 'name': item['m1']['name'], 'type': item['m1']['type']}\n",
    "        i2 = {'calories': item['i2']['calories'], 'name': item['m2']['name'], 'type': item['m2']['type']}\n",
    "\n",
    "        if i1['name'] not in items.keys():\n",
    "            items[i1['name']] = i1\n",
    "            \n",
    "        if i2['name'] not in items.keys():\n",
    "            items[i2['name']] = i2\n",
    "        \n",
    "    return items\n"
   ]
  },
  {
   "cell_type": "markdown",
   "metadata": {},
   "source": [
    "### Setup"
   ]
  },
  {
   "cell_type": "code",
   "execution_count": 334,
   "metadata": {
    "collapsed": true
   },
   "outputs": [],
   "source": [
    "driver = GraphDatabase.driver(\"bolt://localhost:7687\", auth=basic_auth(\"neo4j\", \"password\"))\n",
    "session = driver.session()"
   ]
  },
  {
   "cell_type": "code",
   "execution_count": 320,
   "metadata": {},
   "outputs": [
    {
     "data": {
      "text/plain": [
       "[{'calories': '660',\n",
       "  'name': 'Extra Crispy Breast and Drumstick',\n",
       "  'type': 'Main'},\n",
       " {'calories': '460',\n",
       "  'name': 'Extra Crispy Thigh and Drumstick',\n",
       "  'type': 'Main'},\n",
       " {'calories': '260', 'name': 'Grilled Thigh and Drumstick', 'type': 'Main'},\n",
       " {'calories': '310', 'name': 'Grilled Breast and Drumstick', 'type': 'Main'},\n",
       " {'calories': '370', 'name': 'Original Thigh and Drumstick', 'type': 'Main'},\n",
       " {'calories': '480', 'name': 'Original Breast and Drumstick', 'type': 'Main'},\n",
       " {'calories': '180', 'name': 'Cole Slaw', 'type': 'Side'},\n",
       " {'calories': '25', 'name': 'Green Beans', 'type': 'Side'},\n",
       " {'calories': '160', 'name': 'Macaroni and cheese', 'type': 'Side'},\n",
       " {'calories': '120', 'name': 'Mashed Potatoes and Gravy', 'type': 'Side'}]"
      ]
     },
     "execution_count": 320,
     "metadata": {},
     "output_type": "execute_result"
    }
   ],
   "source": [
    "kfc_menu = get_menu_from_file(\"data/kfc.dat\")\n",
    "kfc_menu"
   ]
  },
  {
   "cell_type": "markdown",
   "metadata": {},
   "source": [
    "### Insert Information Into Database"
   ]
  },
  {
   "cell_type": "code",
   "execution_count": 335,
   "metadata": {},
   "outputs": [
    {
     "data": {
      "text/plain": [
       "<neo4j.v1.result.BoltStatementResult at 0x21f42466e80>"
      ]
     },
     "execution_count": 335,
     "metadata": {},
     "output_type": "execute_result"
    }
   ],
   "source": [
    "ALL_RESTAUNRANTS = [\"KFC\"]\n",
    "session.run(\"CREATE (a:Restaurant {name: $name})\", name=\"KFC\")"
   ]
  },
  {
   "cell_type": "code",
   "execution_count": 326,
   "metadata": {},
   "outputs": [],
   "source": [
    "insert_menu_into_db(session, kfc_menu, \"KFC\")"
   ]
  },
  {
   "cell_type": "code",
   "execution_count": 327,
   "metadata": {
    "collapsed": true
   },
   "outputs": [],
   "source": [
    "session.close()"
   ]
  },
  {
   "cell_type": "markdown",
   "metadata": {},
   "source": [
    "### Retreive Healthiest Meals"
   ]
  },
  {
   "cell_type": "code",
   "execution_count": 179,
   "metadata": {},
   "outputs": [
    {
     "data": {
      "text/plain": [
       "{'Green Beans': {'calories': 25, 'name': 'Green Beans', 'type': 'Side'},\n",
       " 'Grilled Breast and Drumstick': {'calories': 310,\n",
       "  'name': 'Grilled Breast and Drumstick',\n",
       "  'type': 'Main'},\n",
       " 'Grilled Thigh and Drumstick': {'calories': 260,\n",
       "  'name': 'Grilled Thigh and Drumstick',\n",
       "  'type': 'Main'},\n",
       " 'Mashed Potatoes and Gravy': {'calories': 120,\n",
       "  'name': 'Mashed Potatoes and Gravy',\n",
       "  'type': 'Side'},\n",
       " 'Original Thigh and Drumstick': {'calories': 370,\n",
       "  'name': 'Original Thigh and Drumstick',\n",
       "  'type': 'Main'}}"
      ]
     },
     "execution_count": 179,
     "metadata": {},
     "output_type": "execute_result"
    }
   ],
   "source": [
    "get_items_by_calories(session, 400, \"KFC\")"
   ]
  },
  {
   "cell_type": "markdown",
   "metadata": {},
   "source": [
    "## Part Two: Retrieve Restaurants By Zip Code"
   ]
  },
  {
   "cell_type": "code",
   "execution_count": 185,
   "metadata": {},
   "outputs": [
    {
     "name": "stdout",
     "output_type": "stream",
     "text": [
      "{\n",
      "    \"City\": \"New York\",\n",
      "    \"Density\": 34035.48387096774,\n",
      "    \"HouseOfUnits\": 12476,\n",
      "    \"LandArea\": 0.62,\n",
      "    \"Latitude\": 40.75368539999999,\n",
      "    \"Longitude\": -73.9991637,\n",
      "    \"NEBoundLatitude\": 40.8282129,\n",
      "    \"NEBoundLongitude\": -73.9321059,\n",
      "    \"Population\": 21102,\n",
      "    \"SWBoundLatitude\": 40.743451,\n",
      "    \"SWBoungLongitude\": -74.00794499999998,\n",
      "    \"State\": \"NY\",\n",
      "    \"TotalWages\": 1031960117.0,\n",
      "    \"WaterArea\": 0.0,\n",
      "    \"Wealthy\": 48903.42702113544,\n",
      "    \"Zipcode\": \"10001\",\n",
      "    \"ZipcodeType\": \"Standard\"\n",
      "}\n"
     ]
    }
   ],
   "source": [
    "search = ZipcodeSearchEngine()\n",
    "zipcode = search.by_zipcode(\"10001\")\n",
    "print(zipcode)"
   ]
  },
  {
   "cell_type": "markdown",
   "metadata": {},
   "source": [
    "### Helper Functions"
   ]
  },
  {
   "cell_type": "code",
   "execution_count": 377,
   "metadata": {},
   "outputs": [],
   "source": [
    "#Open source code by Yelp,Inc that was modified to fit purpose\n",
    "\n",
    "# API constants, you shouldn't have to change these.\n",
    "API_HOST = 'https://api.yelp.com'\n",
    "SEARCH_PATH = '/v3/businesses/search'\n",
    "BUSINESS_PATH = '/v3/businesses/'  # Business ID will come after slash.\n",
    "\n",
    "# Defaults for our simple example.\n",
    "DEFAULT_TERM = 'dinner'\n",
    "DEFAULT_LOCATION = 'San Francisco, CA'\n",
    "SEARCH_LIMIT = 5\n",
    "\n",
    "def request(host, path, api_key, url_params=None):\n",
    "    \"\"\"Given your API_KEY, send a GET request to the API.\n",
    "    Args:\n",
    "        host (str): The domain host of the API.\n",
    "        path (str): The path of the API after the domain.\n",
    "        API_KEY (str): Your API Key.\n",
    "        url_params (dict): An optional set of query parameters in the request.\n",
    "    Returns:\n",
    "        dict: The JSON response from the request.\n",
    "    Raises:\n",
    "        HTTPError: An error occurs from the HTTP request.\n",
    "    \"\"\"\n",
    "    url_params = url_params or {}\n",
    "    url = '{0}{1}'.format(host, quote(path.encode('utf8')))\n",
    "    headers = {\n",
    "        'Authorization': 'Bearer %s' % api_key,\n",
    "    }\n",
    "\n",
    "\n",
    "    response = requests.request('GET', url, headers=headers, params=url_params)\n",
    "    return response.json()\n",
    "\n",
    "\n",
    "def search(api_key, term, zip_code, radius):\n",
    "    \"\"\"Query the Search API by a search term and location.\n",
    "    Args:\n",
    "        term (str): The search term passed to the API.\n",
    "        location (str): The search location passed to the API.\n",
    "    Returns:\n",
    "        dict: The JSON response from the request.\n",
    "    \"\"\"\n",
    "    search = ZipcodeSearchEngine()\n",
    "    zipcode_details = search.by_zipcode(zip_code)\n",
    "    url_params = {\n",
    "        'term': term.replace(' ', '+'),\n",
    "        'latitude': zipcode_details[\"Latitude\"],\n",
    "        'longitude': zipcode_details[\"Longitude\"],\n",
    "        'radius': (1609*radius),\n",
    "        'limit': SEARCH_LIMIT\n",
    "    }\n",
    "\n",
    "    return request(API_HOST, SEARCH_PATH, api_key, url_params=url_params)\n",
    "\n",
    "\n",
    "def get_business_reviews(api_key, business_id):\n",
    "    \"\"\"Query the Business API for reviews by a business ID.\n",
    "    Args:\n",
    "        business_id (str): The ID of the business to query.\n",
    "    Returns:\n",
    "        dict: The JSON response from the request.\n",
    "    \"\"\"\n",
    "    business_path = BUSINESS_PATH + business_id + '/reviews'\n",
    "\n",
    "    return request(API_HOST, business_path, api_key)\n",
    "\n",
    "def extract_restaurants_info(api_key, restaurant, zip_code, radius):\n",
    "    search_results = search(api_key, restaurant, zip_code, radius)\n",
    "\n",
    "    restaurants= {}\n",
    "    for business in search_results['businesses']:\n",
    "        if business['name'] == restaurant:\n",
    "            business['reviews'] = get_business_reviews(API_KEY, business['id'])['reviews']\n",
    "            if business['id'] not in restaurants.keys():\n",
    "                restaurants[business['id']] = business\n",
    "                \n",
    "    return restaurants\n"
   ]
  },
  {
   "cell_type": "markdown",
   "metadata": {},
   "source": [
    "## Part Three: Naive Bayes Classification of Restaurant Reviews"
   ]
  },
  {
   "cell_type": "code",
   "execution_count": 292,
   "metadata": {
    "collapsed": true
   },
   "outputs": [],
   "source": [
    "def clean_line(line):\n",
    "    invalids = ['\"', '\\n']\n",
    "    for n in invalids:\n",
    "        line = line.replace(n, '')\n",
    "        \n",
    "    return line\n",
    "\n",
    "def find_string_in_array(array, term):\n",
    "    found = []\n",
    "    for item in array:\n",
    "        try:\n",
    "            item.index(term)\n",
    "            found.append(item)\n",
    "        except:\n",
    "            pass\n",
    "    return found"
   ]
  },
  {
   "cell_type": "code",
   "execution_count": 300,
   "metadata": {},
   "outputs": [],
   "source": [
    "def generate_classifier_from_reviews_file(reviews_filepath):\n",
    "    reviews_file = open(reviews_filepath, \"r\")\n",
    "    reviews_str = reviews_file.read().split(\".\\n\")\n",
    "    \n",
    "    reviews = []\n",
    "    for review in reviews_str:\n",
    "        review_attributes = review.split(\"\\n\")\n",
    "        review_text = clean_line(find_string_in_array(review_attributes, \"Text =\")[0].split(\" = \")[1])\n",
    "        rating = int(clean_str(find_string_in_array(review_attributes, \"Overall =\")[0].split(\" = \")[1]))\n",
    "\n",
    "        if rating > 3:\n",
    "            reviews.append((review_text, 'pos'))\n",
    "        elif rating < 3:\n",
    "            reviews.append((review_text, 'neg'))\n",
    "            \n",
    "    return NaiveBayesClassifier(reviews)"
   ]
  },
  {
   "cell_type": "code",
   "execution_count": 387,
   "metadata": {},
   "outputs": [],
   "source": [
    "CLASSIFIER = generate_classifier_from_reviews_file(\"data/reviews.data\")"
   ]
  },
  {
   "cell_type": "code",
   "execution_count": 394,
   "metadata": {},
   "outputs": [
    {
     "data": {
      "text/plain": [
       "'pos'"
      ]
     },
     "execution_count": 394,
     "metadata": {},
     "output_type": "execute_result"
    }
   ],
   "source": [
    "CLASSIFIER.classify(\"The pizza is good.\")"
   ]
  },
  {
   "cell_type": "markdown",
   "metadata": {},
   "source": [
    "## Part Four: Putting it All Together"
   ]
  },
  {
   "cell_type": "code",
   "execution_count": 236,
   "metadata": {},
   "outputs": [
    {
     "data": {
      "text/plain": [
       "dict_keys(['kfc-round-rock', 'kfc-round-rock-2', 'kfc-austin-8'])"
      ]
     },
     "execution_count": 236,
     "metadata": {},
     "output_type": "execute_result"
    }
   ],
   "source": [
    "API_KEY= \"_QKHga2L3_6ye5qG8OY-M9ZFbji_LFtHZPVdSsqQ40E4V-8VOQDau41rZBPciWJGMijVuP7PCvGoJiEWlCqiDTGUzeN3lRiJm83nqyyB5zOXIYYoeqwTPZoGh705WnYx\"\n",
    "kfcs = extract_restaurants_info(API_KEY, \"KFC\", \"78681\", 7)\n",
    "kfcs.keys()\n"
   ]
  },
  {
   "cell_type": "code",
   "execution_count": 406,
   "metadata": {},
   "outputs": [
    {
     "data": {
      "text/html": [
       "<table>\n",
       "<tbody>\n",
       "<tr><td>Yelp Rating</td><td>Address                             </td><td>Sentiment Analysis</td></tr>\n",
       "<tr><td>2.0        </td><td>404 W Taylor Ave, Round Rock, TX    </td><td>pos               </td></tr>\n",
       "<tr><td>2.0        </td><td>641 Louis Henna Blvd, Round Rock, TX</td><td>pos               </td></tr>\n",
       "<tr><td>2.5        </td><td>1700 W Parmer Lane, Austin, TX      </td><td>pos               </td></tr>\n",
       "<tr><td>2.5        </td><td>13435 US Hwy 183 North, Austin, TX  </td><td>pos               </td></tr>\n",
       "<tr><td>1.5        </td><td>14824 N I H 35, suite D, Austin, TX </td><td>pos               </td></tr>\n",
       "</tbody>\n",
       "</table>"
      ],
      "text/plain": [
       "<IPython.core.display.HTML object>"
      ]
     },
     "metadata": {},
     "output_type": "display_data"
    }
   ],
   "source": [
    "def print_table(table):\n",
    "    display(HTML(tabulate.tabulate(table, tablefmt='html')))\n",
    "    \n",
    "def get_classification(reviews):\n",
    "    text = \"\"\n",
    "    for review in reviews:\n",
    "        text += review['text']\n",
    "    \n",
    "    return CLASSIFIER.classify(\"hello world\")\n",
    "\n",
    "def extract_food_item(choices):\n",
    "    table = [[\"Item\", \"Type\", \"Calories\"]]\n",
    "    for key, choice in choices.items():\n",
    "        info = [choice['name'], choice['type'], choice['calories']]\n",
    "        table.append(info)\n",
    "        \n",
    "    print_table(table)\n",
    "\n",
    "def extract_location_info(locations):\n",
    "    table = [[\"Yelp Rating\", \"Address\", \"Sentiment Analysis\"]]\n",
    "    for key, loc_info in locations.items():\n",
    "        address = loc_info['location']['address1'] + \", \" + loc_info['location']['city'] + \", \" + loc_info['location']['state']\n",
    "        classification = get_classification(loc_info['reviews'])\n",
    "        info =[loc_info['rating'], address, classification]\n",
    "        table.append(info)\n",
    "        \n",
    "    print_table(table)\n",
    "        \n",
    "extract_location_info(locs)"
   ]
  },
  {
   "cell_type": "code",
   "execution_count": 412,
   "metadata": {},
   "outputs": [],
   "source": [
    "def search_for_healthy_food(db, api_key, calorie_limit, zip_code, radius):\n",
    "    for restaurant in ALL_RESTAURANTS:\n",
    "        items = get_items_by_calories(db, calorie_limit, restaurant)\n",
    "        locations = extract_restaurants_info(api_key, restaurant, zip_code, radius)\n",
    "        \n",
    "        print(restaurant)\n",
    "        print(\"===============================================================================================================\")\n",
    "        print(\"Healthy Menu:\")\n",
    "        print(\"----------------------------------------------------------------------------------------------------------------\")\n",
    "        print(items)\n",
    "        print(\"----------------------------------------------------------------------------------------------------------------\")\n",
    "        print(\"Locations:\")\n",
    "        extract_location_info(locations)\n",
    "        \n"
   ]
  },
  {
   "cell_type": "code",
   "execution_count": 411,
   "metadata": {},
   "outputs": [
    {
     "name": "stdout",
     "output_type": "stream",
     "text": [
      "KFC\n",
      "===============================================================================================================\n",
      "Choices:\n",
      "{'Original Thigh and Drumstick': {'calories': 370, 'name': 'Original Thigh and Drumstick', 'type': 'Main'}, 'Mashed Potatoes and Gravy': {'calories': 120, 'name': 'Mashed Potatoes and Gravy', 'type': 'Side'}, 'Grilled Breast and Drumstick': {'calories': 310, 'name': 'Grilled Breast and Drumstick', 'type': 'Main'}, 'Grilled Thigh and Drumstick': {'calories': 260, 'name': 'Grilled Thigh and Drumstick', 'type': 'Main'}, 'Macaroni and cheese': {'calories': 160, 'name': 'Macaroni and cheese', 'type': 'Side'}, 'Green Beans': {'calories': 25, 'name': 'Green Beans', 'type': 'Side'}, 'Extra Crispy Thigh and Drumstick': {'calories': 460, 'name': 'Extra Crispy Thigh and Drumstick', 'type': 'Main'}, 'Cole Slaw': {'calories': 180, 'name': 'Cole Slaw', 'type': 'Side'}}\n"
     ]
    },
    {
     "data": {
      "text/html": [
       "<table>\n",
       "<tbody>\n",
       "<tr><td>Yelp Rating</td><td>Address                             </td><td>Sentiment Analysis</td></tr>\n",
       "<tr><td>2.0        </td><td>404 W Taylor Ave, Round Rock, TX    </td><td>pos               </td></tr>\n",
       "<tr><td>2.0        </td><td>641 Louis Henna Blvd, Round Rock, TX</td><td>pos               </td></tr>\n",
       "<tr><td>2.5        </td><td>1700 W Parmer Lane, Austin, TX      </td><td>pos               </td></tr>\n",
       "<tr><td>2.5        </td><td>13435 US Hwy 183 North, Austin, TX  </td><td>pos               </td></tr>\n",
       "<tr><td>1.5        </td><td>14824 N I H 35, suite D, Austin, TX </td><td>pos               </td></tr>\n",
       "</tbody>\n",
       "</table>"
      ],
      "text/plain": [
       "<IPython.core.display.HTML object>"
      ]
     },
     "metadata": {},
     "output_type": "display_data"
    }
   ],
   "source": [
    "session = driver.session()\n",
    "locs = search_for_healthy_food(session, API_KEY, 500, \"78681\", 7)\n",
    "session.close()"
   ]
  }
 ],
 "metadata": {
  "kernelspec": {
   "display_name": "Python 3",
   "language": "python",
   "name": "python3"
  },
  "language_info": {
   "codemirror_mode": {
    "name": "ipython",
    "version": 3
   },
   "file_extension": ".py",
   "mimetype": "text/x-python",
   "name": "python",
   "nbconvert_exporter": "python",
   "pygments_lexer": "ipython3",
   "version": "3.6.2"
  }
 },
 "nbformat": 4,
 "nbformat_minor": 2
}
