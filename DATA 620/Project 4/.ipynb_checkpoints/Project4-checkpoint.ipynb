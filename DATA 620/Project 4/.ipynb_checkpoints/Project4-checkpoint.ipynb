{
 "cells": [
  {
   "cell_type": "markdown",
   "metadata": {},
   "source": [
    "# Project 4: Book Problem\n",
    "\n",
    "For this project, we were asked to solve one of the given problems from the book . I chose to solve problem four, which asks us to find classifications inside a set of movie reviews. "
   ]
  },
  {
   "cell_type": "code",
   "execution_count": 1,
   "metadata": {
    "collapsed": true
   },
   "outputs": [],
   "source": [
    "import nltk\n",
    "import sklearn as sk\n",
    "from nltk.corpus import movie_reviews\n",
    "import pandas as pd"
   ]
  },
  {
   "cell_type": "markdown",
   "metadata": {},
   "source": [
    "I start off by pulling in the words from the `nltk` movie reviews corpus, follow that with calculating the frequency distribution, and then grabbing the distribution keys. "
   ]
  },
  {
   "cell_type": "code",
   "execution_count": 18,
   "metadata": {},
   "outputs": [],
   "source": [
    "words = movie_reviews.words()\n",
    "distribution = nltk.FreqDist(w.lower() for w in words)\n",
    "word_features = list(distribution.keys())"
   ]
  },
  {
   "cell_type": "markdown",
   "metadata": {},
   "source": [
    "Once we have our features, we can grab the list of words and their classification:"
   ]
  },
  {
   "cell_type": "code",
   "execution_count": 19,
   "metadata": {},
   "outputs": [],
   "source": [
    "documents = [(list(movie_reviews.words(fileid)), category)\n",
    "             for category in movie_reviews.categories()\n",
    "             for fileid in movie_reviews.fileids(category)]"
   ]
  },
  {
   "cell_type": "markdown",
   "metadata": {},
   "source": [
    "Next, I create a feature set for the dataset: "
   ]
  },
  {
   "cell_type": "code",
   "execution_count": 14,
   "metadata": {},
   "outputs": [],
   "source": [
    "def document_features(document):\n",
    "    document_words = set(document)\n",
    "    features = {}\n",
    "    for word in word_features:\n",
    "        features['contains({})'.format(word)] = (word in document_words)\n",
    "    return features\n",
    "\n",
    "featuresets = [(document_features(d), c) for (d,c) in documents]"
   ]
  },
  {
   "cell_type": "markdown",
   "metadata": {},
   "source": [
    "Once I have my feature set, I set the the first 100 as the training dataset, and the rest as the test dataset. After that, a Naive Bayes classification is permformed, and we finished by showing the 30 most inforamtive features."
   ]
  },
  {
   "cell_type": "code",
   "execution_count": 22,
   "metadata": {},
   "outputs": [
    {
     "name": "stdout",
     "output_type": "stream",
     "text": [
      "Most Informative Features\n",
      "    contains(recognizes) = True              pos : neg    =      8.1 : 1.0\n",
      " contains(unimaginative) = True              neg : pos    =      7.8 : 1.0\n",
      "    contains(schumacher) = True              neg : pos    =      7.8 : 1.0\n",
      "        contains(turkey) = True              neg : pos    =      6.5 : 1.0\n",
      "     contains(atrocious) = True              neg : pos    =      6.4 : 1.0\n",
      "        contains(shoddy) = True              neg : pos    =      6.3 : 1.0\n",
      "          contains(mena) = True              neg : pos    =      6.3 : 1.0\n",
      "        contains(suvari) = True              neg : pos    =      6.3 : 1.0\n",
      "         contains(kudos) = True              pos : neg    =      5.9 : 1.0\n",
      "        contains(wasted) = True              neg : pos    =      5.6 : 1.0\n",
      "        contains(justin) = True              neg : pos    =      5.6 : 1.0\n",
      "        contains(canyon) = True              neg : pos    =      5.6 : 1.0\n",
      "  contains(surveillance) = True              neg : pos    =      5.6 : 1.0\n",
      "           contains(ugh) = True              neg : pos    =      5.6 : 1.0\n",
      "         contains(awful) = True              neg : pos    =      5.4 : 1.0\n",
      "      contains(explores) = True              pos : neg    =      5.3 : 1.0\n",
      " contains(technological) = True              pos : neg    =      5.1 : 1.0\n",
      "      contains(everyday) = True              pos : neg    =      5.1 : 1.0\n",
      "    contains(ridiculous) = True              neg : pos    =      5.1 : 1.0\n",
      "        contains(poorly) = True              neg : pos    =      4.9 : 1.0\n",
      "         contains(waste) = True              neg : pos    =      4.9 : 1.0\n",
      "       contains(bronson) = True              neg : pos    =      4.8 : 1.0\n",
      "    contains(uninspired) = True              neg : pos    =      4.7 : 1.0\n",
      "        contains(sorrow) = True              pos : neg    =      4.5 : 1.0\n",
      "          contains(toll) = True              pos : neg    =      4.5 : 1.0\n",
      "       contains(stellan) = True              pos : neg    =      4.5 : 1.0\n",
      "        contains(fluffy) = True              pos : neg    =      4.5 : 1.0\n",
      "     contains(paralyzed) = True              pos : neg    =      4.5 : 1.0\n",
      "       contains(unfunny) = True              neg : pos    =      4.3 : 1.0\n",
      "        contains(welles) = True              neg : pos    =      4.2 : 1.0\n"
     ]
    }
   ],
   "source": [
    "train_set, test_set = featuresets[100:], featuresets[:100]\n",
    "classifier = nltk.NaiveBayesClassifier.train(train_set)\n",
    "classifier.show_most_informative_features(30)"
   ]
  },
  {
   "cell_type": "markdown",
   "metadata": {},
   "source": [
    "## Conclusion\n",
    "The ones that were surprising to me were `stellan`, `bronson`, and `turkey`. Those were not words I would expect as indicators as I would have thought they would be sparesely used. On the other hand, I wasn't surprised that words such as `unimaginative`, `fluffy`, and `unfunny` made the list. "
   ]
  }
 ],
 "metadata": {
  "kernelspec": {
   "display_name": "Python 3",
   "language": "python",
   "name": "python3"
  },
  "language_info": {
   "codemirror_mode": {
    "name": "ipython",
    "version": 3
   },
   "file_extension": ".py",
   "mimetype": "text/x-python",
   "name": "python",
   "nbconvert_exporter": "python",
   "pygments_lexer": "ipython3",
   "version": "3.6.2"
  }
 },
 "nbformat": 4,
 "nbformat_minor": 2
}
