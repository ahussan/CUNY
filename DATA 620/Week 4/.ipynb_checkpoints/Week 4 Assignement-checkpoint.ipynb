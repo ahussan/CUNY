{
 "cells": [
  {
   "cell_type": "markdown",
   "metadata": {},
   "source": [
    "# Week 4 Assignment: Data for Centrality Measures"
   ]
  },
  {
   "cell_type": "markdown",
   "metadata": {},
   "source": [
    "## Introduction\n",
    "\n",
    "For this assignment, we were asked to find a set of data that could be used to measure centrality across nodes with at least one categorical variable for each of the nodes. The data could be scraped or acquired via an API. \n",
    "\n",
    "For my dataset, I am choosing Sabre's Air Intelligence dataset. We can think of airports around the world as the vertices, and flights beween them as edges. With this model in mind, we can use Sabre's Air Intelligence APIs to measure things like Travel Seasonality, Fare Range, Low Fare Forecast, among others. Each payload has many categories such as time and date of the flights, the price of the flight, the duration, miles between the airports, etc. These categories could be used as interesting centrality measures to develop a project with. \n",
    "\n",
    "Beyond Air Intellegnece offerings, Sabre also has a lot of basic Air APIs such as searching for flight routes, prices, and distances. Combined with the intelligence APIs, this solution would provide me with pretty much all the data ncessary to develop a good data science project with. "
   ]
  },
  {
   "cell_type": "markdown",
   "metadata": {},
   "source": [
    "## Usage\n",
    "Airline price prediction is a big field in data science and predictive analytics. Using Sabre's tools, it would be possible to build a predictive pricing model using centrality measures. For example, if we saw that the lowest price for a certain route is significantly lower than the centrality measure, then we could say that that is the best time to fly. \n",
    "\n",
    "To achieve this, we could gather the prices for routes over certain date ranges and store them in a database. Once in a database, we could then use the stored information to build further further predictive models wihtout having to spend compute or API resources to gather the same dataset again. \n",
    "\n",
    "For a video explanation of Sabre's API, please [visit this link](https://youtu.be/o9WHYDxkqqs)"
   ]
  }
 ],
 "metadata": {
  "kernelspec": {
   "display_name": "Python 2",
   "language": "python",
   "name": "python2"
  },
  "language_info": {
   "codemirror_mode": {
    "name": "ipython",
    "version": 2
   },
   "file_extension": ".py",
   "mimetype": "text/x-python",
   "name": "python",
   "nbconvert_exporter": "python",
   "pygments_lexer": "ipython2",
   "version": "2.7.13"
  }
 },
 "nbformat": 4,
 "nbformat_minor": 2
}
